{
  "nbformat": 4,
  "nbformat_minor": 0,
  "metadata": {
    "colab": {
      "provenance": []
    },
    "kernelspec": {
      "name": "python3",
      "display_name": "Python 3"
    },
    "language_info": {
      "name": "python"
    }
  },
  "cells": [
    {
      "cell_type": "code",
      "execution_count": null,
      "metadata": {
        "id": "hxstVswItdeA"
      },
      "outputs": [],
      "source": [
        "kimport numpy as np \n",
        "import pandas as pd \n",
        "from datetime import datetime\n",
        "\n",
        "import matplotlib.pyplot as plt\n",
        "import seaborn as sns\n",
        "\n",
        "import os\n",
        "for dirname, _, filenames in os.walk('/kaggle/input'):\n",
        "    for filename in filenames:\n",
        "        print(os.path.join(dirname, filename))\n"
      ]
    },
    {
      "cell_type": "code",
      "source": [
        "duplicate = pd.read_csv('/content/weblog.csv',squeeze=True)\n",
        "duplicate"
      ],
      "metadata": {
        "id": "AjHR3MEJY18Y",
        "colab": {
          "base_uri": "https://localhost:8080/",
          "height": 513
        },
        "outputId": "5b84366a-0c7f-4f8c-ef0c-99be2acdf4e8"
      },
      "execution_count": null,
      "outputs": [
        {
          "output_type": "stream",
          "name": "stderr",
          "text": [
            "<ipython-input-2-fef35cf7cc2c>:1: FutureWarning: The squeeze argument has been deprecated and will be removed in a future version. Append .squeeze(\"columns\") to the call to squeeze.\n",
            "\n",
            "\n",
            "  duplicate = pd.read_csv('/content/weblog.csv',squeeze=True)\n"
          ]
        },
        {
          "output_type": "execute_result",
          "data": {
            "text/plain": [
              "               IP                   Time  \\\n",
              "0      10.128.2.1  [29/Nov/2017:06:58:55   \n",
              "1      10.128.2.1  [29/Nov/2017:06:59:02   \n",
              "2      10.128.2.1  [29/Nov/2017:06:59:03   \n",
              "3      10.131.2.1  [29/Nov/2017:06:59:04   \n",
              "4      10.130.2.1  [29/Nov/2017:06:59:06   \n",
              "...           ...                    ...   \n",
              "16002  10.130.2.1  [02/Mar/2018:15:47:12   \n",
              "16003  10.130.2.1  [02/Mar/2018:15:47:23   \n",
              "16004  10.130.2.1  [02/Mar/2018:15:47:32   \n",
              "16005  10.130.2.1  [02/Mar/2018:15:47:35   \n",
              "16006  10.130.2.1  [02/Mar/2018:15:47:46   \n",
              "\n",
              "                                                 URL Staus  \n",
              "0                            GET /login.php HTTP/1.1   200  \n",
              "1                         POST /process.php HTTP/1.1   302  \n",
              "2                             GET /home.php HTTP/1.1   200  \n",
              "3              GET /js/vendor/moment.min.js HTTP/1.1   200  \n",
              "4      GET /bootstrap-3.3.7/js/bootstrap.js HTTP/1.1   200  \n",
              "...                                              ...   ...  \n",
              "16002     GET /showcode.php?id=309&nm=ham05 HTTP/1.1   200  \n",
              "16003                GET /allsubmission.php HTTP/1.1   200  \n",
              "16004     GET /showcode.php?id=309&nm=ham05 HTTP/1.1   200  \n",
              "16005                GET /allsubmission.php HTTP/1.1   200  \n",
              "16006                         GET /home.php HTTP/1.1   200  \n",
              "\n",
              "[16007 rows x 4 columns]"
            ],
            "text/html": [
              "\n",
              "  <div id=\"df-fb4c51ac-3b78-407f-b071-dfbe130442a9\">\n",
              "    <div class=\"colab-df-container\">\n",
              "      <div>\n",
              "<style scoped>\n",
              "    .dataframe tbody tr th:only-of-type {\n",
              "        vertical-align: middle;\n",
              "    }\n",
              "\n",
              "    .dataframe tbody tr th {\n",
              "        vertical-align: top;\n",
              "    }\n",
              "\n",
              "    .dataframe thead th {\n",
              "        text-align: right;\n",
              "    }\n",
              "</style>\n",
              "<table border=\"1\" class=\"dataframe\">\n",
              "  <thead>\n",
              "    <tr style=\"text-align: right;\">\n",
              "      <th></th>\n",
              "      <th>IP</th>\n",
              "      <th>Time</th>\n",
              "      <th>URL</th>\n",
              "      <th>Staus</th>\n",
              "    </tr>\n",
              "  </thead>\n",
              "  <tbody>\n",
              "    <tr>\n",
              "      <th>0</th>\n",
              "      <td>10.128.2.1</td>\n",
              "      <td>[29/Nov/2017:06:58:55</td>\n",
              "      <td>GET /login.php HTTP/1.1</td>\n",
              "      <td>200</td>\n",
              "    </tr>\n",
              "    <tr>\n",
              "      <th>1</th>\n",
              "      <td>10.128.2.1</td>\n",
              "      <td>[29/Nov/2017:06:59:02</td>\n",
              "      <td>POST /process.php HTTP/1.1</td>\n",
              "      <td>302</td>\n",
              "    </tr>\n",
              "    <tr>\n",
              "      <th>2</th>\n",
              "      <td>10.128.2.1</td>\n",
              "      <td>[29/Nov/2017:06:59:03</td>\n",
              "      <td>GET /home.php HTTP/1.1</td>\n",
              "      <td>200</td>\n",
              "    </tr>\n",
              "    <tr>\n",
              "      <th>3</th>\n",
              "      <td>10.131.2.1</td>\n",
              "      <td>[29/Nov/2017:06:59:04</td>\n",
              "      <td>GET /js/vendor/moment.min.js HTTP/1.1</td>\n",
              "      <td>200</td>\n",
              "    </tr>\n",
              "    <tr>\n",
              "      <th>4</th>\n",
              "      <td>10.130.2.1</td>\n",
              "      <td>[29/Nov/2017:06:59:06</td>\n",
              "      <td>GET /bootstrap-3.3.7/js/bootstrap.js HTTP/1.1</td>\n",
              "      <td>200</td>\n",
              "    </tr>\n",
              "    <tr>\n",
              "      <th>...</th>\n",
              "      <td>...</td>\n",
              "      <td>...</td>\n",
              "      <td>...</td>\n",
              "      <td>...</td>\n",
              "    </tr>\n",
              "    <tr>\n",
              "      <th>16002</th>\n",
              "      <td>10.130.2.1</td>\n",
              "      <td>[02/Mar/2018:15:47:12</td>\n",
              "      <td>GET /showcode.php?id=309&amp;nm=ham05 HTTP/1.1</td>\n",
              "      <td>200</td>\n",
              "    </tr>\n",
              "    <tr>\n",
              "      <th>16003</th>\n",
              "      <td>10.130.2.1</td>\n",
              "      <td>[02/Mar/2018:15:47:23</td>\n",
              "      <td>GET /allsubmission.php HTTP/1.1</td>\n",
              "      <td>200</td>\n",
              "    </tr>\n",
              "    <tr>\n",
              "      <th>16004</th>\n",
              "      <td>10.130.2.1</td>\n",
              "      <td>[02/Mar/2018:15:47:32</td>\n",
              "      <td>GET /showcode.php?id=309&amp;nm=ham05 HTTP/1.1</td>\n",
              "      <td>200</td>\n",
              "    </tr>\n",
              "    <tr>\n",
              "      <th>16005</th>\n",
              "      <td>10.130.2.1</td>\n",
              "      <td>[02/Mar/2018:15:47:35</td>\n",
              "      <td>GET /allsubmission.php HTTP/1.1</td>\n",
              "      <td>200</td>\n",
              "    </tr>\n",
              "    <tr>\n",
              "      <th>16006</th>\n",
              "      <td>10.130.2.1</td>\n",
              "      <td>[02/Mar/2018:15:47:46</td>\n",
              "      <td>GET /home.php HTTP/1.1</td>\n",
              "      <td>200</td>\n",
              "    </tr>\n",
              "  </tbody>\n",
              "</table>\n",
              "<p>16007 rows × 4 columns</p>\n",
              "</div>\n",
              "      <button class=\"colab-df-convert\" onclick=\"convertToInteractive('df-fb4c51ac-3b78-407f-b071-dfbe130442a9')\"\n",
              "              title=\"Convert this dataframe to an interactive table.\"\n",
              "              style=\"display:none;\">\n",
              "        \n",
              "  <svg xmlns=\"http://www.w3.org/2000/svg\" height=\"24px\"viewBox=\"0 0 24 24\"\n",
              "       width=\"24px\">\n",
              "    <path d=\"M0 0h24v24H0V0z\" fill=\"none\"/>\n",
              "    <path d=\"M18.56 5.44l.94 2.06.94-2.06 2.06-.94-2.06-.94-.94-2.06-.94 2.06-2.06.94zm-11 1L8.5 8.5l.94-2.06 2.06-.94-2.06-.94L8.5 2.5l-.94 2.06-2.06.94zm10 10l.94 2.06.94-2.06 2.06-.94-2.06-.94-.94-2.06-.94 2.06-2.06.94z\"/><path d=\"M17.41 7.96l-1.37-1.37c-.4-.4-.92-.59-1.43-.59-.52 0-1.04.2-1.43.59L10.3 9.45l-7.72 7.72c-.78.78-.78 2.05 0 2.83L4 21.41c.39.39.9.59 1.41.59.51 0 1.02-.2 1.41-.59l7.78-7.78 2.81-2.81c.8-.78.8-2.07 0-2.86zM5.41 20L4 18.59l7.72-7.72 1.47 1.35L5.41 20z\"/>\n",
              "  </svg>\n",
              "      </button>\n",
              "      \n",
              "  <style>\n",
              "    .colab-df-container {\n",
              "      display:flex;\n",
              "      flex-wrap:wrap;\n",
              "      gap: 12px;\n",
              "    }\n",
              "\n",
              "    .colab-df-convert {\n",
              "      background-color: #E8F0FE;\n",
              "      border: none;\n",
              "      border-radius: 50%;\n",
              "      cursor: pointer;\n",
              "      display: none;\n",
              "      fill: #1967D2;\n",
              "      height: 32px;\n",
              "      padding: 0 0 0 0;\n",
              "      width: 32px;\n",
              "    }\n",
              "\n",
              "    .colab-df-convert:hover {\n",
              "      background-color: #E2EBFA;\n",
              "      box-shadow: 0px 1px 2px rgba(60, 64, 67, 0.3), 0px 1px 3px 1px rgba(60, 64, 67, 0.15);\n",
              "      fill: #174EA6;\n",
              "    }\n",
              "\n",
              "    [theme=dark] .colab-df-convert {\n",
              "      background-color: #3B4455;\n",
              "      fill: #D2E3FC;\n",
              "    }\n",
              "\n",
              "    [theme=dark] .colab-df-convert:hover {\n",
              "      background-color: #434B5C;\n",
              "      box-shadow: 0px 1px 3px 1px rgba(0, 0, 0, 0.15);\n",
              "      filter: drop-shadow(0px 1px 2px rgba(0, 0, 0, 0.3));\n",
              "      fill: #FFFFFF;\n",
              "    }\n",
              "  </style>\n",
              "\n",
              "      <script>\n",
              "        const buttonEl =\n",
              "          document.querySelector('#df-fb4c51ac-3b78-407f-b071-dfbe130442a9 button.colab-df-convert');\n",
              "        buttonEl.style.display =\n",
              "          google.colab.kernel.accessAllowed ? 'block' : 'none';\n",
              "\n",
              "        async function convertToInteractive(key) {\n",
              "          const element = document.querySelector('#df-fb4c51ac-3b78-407f-b071-dfbe130442a9');\n",
              "          const dataTable =\n",
              "            await google.colab.kernel.invokeFunction('convertToInteractive',\n",
              "                                                     [key], {});\n",
              "          if (!dataTable) return;\n",
              "\n",
              "          const docLinkHtml = 'Like what you see? Visit the ' +\n",
              "            '<a target=\"_blank\" href=https://colab.research.google.com/notebooks/data_table.ipynb>data table notebook</a>'\n",
              "            + ' to learn more about interactive tables.';\n",
              "          element.innerHTML = '';\n",
              "          dataTable['output_type'] = 'display_data';\n",
              "          await google.colab.output.renderOutput(dataTable, element);\n",
              "          const docLink = document.createElement('div');\n",
              "          docLink.innerHTML = docLinkHtml;\n",
              "          element.appendChild(docLink);\n",
              "        }\n",
              "      </script>\n",
              "    </div>\n",
              "  </div>\n",
              "  "
            ]
          },
          "metadata": {},
          "execution_count": 2
        }
      ]
    },
    {
      "cell_type": "code",
      "source": [
        "duplicate.dtypes"
      ],
      "metadata": {
        "id": "JOi6qyYCupdh",
        "colab": {
          "base_uri": "https://localhost:8080/"
        },
        "outputId": "d637c90e-df6c-46d3-fb44-6ff707f386e0"
      },
      "execution_count": null,
      "outputs": [
        {
          "output_type": "execute_result",
          "data": {
            "text/plain": [
              "IP       object\n",
              "Time     object\n",
              "URL      object\n",
              "Staus    object\n",
              "dtype: object"
            ]
          },
          "metadata": {},
          "execution_count": 3
        }
      ]
    },
    {
      "cell_type": "code",
      "source": [
        "df=pd.read_csv('/content/weblog.csv',squeeze=True)\n",
        "data=pd.DataFrame(df)"
      ],
      "metadata": {
        "id": "vqE3bjx4vlY6",
        "colab": {
          "base_uri": "https://localhost:8080/"
        },
        "outputId": "c65c942a-e2d2-4bfd-cdd4-a9ebd7e5a8a6"
      },
      "execution_count": null,
      "outputs": [
        {
          "output_type": "stream",
          "name": "stderr",
          "text": [
            "<ipython-input-4-c2edf8f17056>:1: FutureWarning: The squeeze argument has been deprecated and will be removed in a future version. Append .squeeze(\"columns\") to the call to squeeze.\n",
            "\n",
            "\n",
            "  df=pd.read_csv('/content/weblog.csv',squeeze=True)\n"
          ]
        }
      ]
    },
    {
      "cell_type": "code",
      "source": [
        "print(data)"
      ],
      "metadata": {
        "id": "NfZD3CDiGFE4",
        "colab": {
          "base_uri": "https://localhost:8080/"
        },
        "outputId": "c380cbd9-2718-46d2-bd17-70e5796ece57"
      },
      "execution_count": null,
      "outputs": [
        {
          "output_type": "stream",
          "name": "stdout",
          "text": [
            "               IP                   Time  \\\n",
            "0      10.128.2.1  [29/Nov/2017:06:58:55   \n",
            "1      10.128.2.1  [29/Nov/2017:06:59:02   \n",
            "2      10.128.2.1  [29/Nov/2017:06:59:03   \n",
            "3      10.131.2.1  [29/Nov/2017:06:59:04   \n",
            "4      10.130.2.1  [29/Nov/2017:06:59:06   \n",
            "...           ...                    ...   \n",
            "16002  10.130.2.1  [02/Mar/2018:15:47:12   \n",
            "16003  10.130.2.1  [02/Mar/2018:15:47:23   \n",
            "16004  10.130.2.1  [02/Mar/2018:15:47:32   \n",
            "16005  10.130.2.1  [02/Mar/2018:15:47:35   \n",
            "16006  10.130.2.1  [02/Mar/2018:15:47:46   \n",
            "\n",
            "                                                 URL Staus  \n",
            "0                            GET /login.php HTTP/1.1   200  \n",
            "1                         POST /process.php HTTP/1.1   302  \n",
            "2                             GET /home.php HTTP/1.1   200  \n",
            "3              GET /js/vendor/moment.min.js HTTP/1.1   200  \n",
            "4      GET /bootstrap-3.3.7/js/bootstrap.js HTTP/1.1   200  \n",
            "...                                              ...   ...  \n",
            "16002     GET /showcode.php?id=309&nm=ham05 HTTP/1.1   200  \n",
            "16003                GET /allsubmission.php HTTP/1.1   200  \n",
            "16004     GET /showcode.php?id=309&nm=ham05 HTTP/1.1   200  \n",
            "16005                GET /allsubmission.php HTTP/1.1   200  \n",
            "16006                         GET /home.php HTTP/1.1   200  \n",
            "\n",
            "[16007 rows x 4 columns]\n"
          ]
        }
      ]
    },
    {
      "cell_type": "code",
      "source": [
        "data.dtypes"
      ],
      "metadata": {
        "colab": {
          "base_uri": "https://localhost:8080/"
        },
        "id": "ElqLvT9XvqK8",
        "outputId": "f372eed0-e2c3-43d5-db80-84a91b10769f"
      },
      "execution_count": null,
      "outputs": [
        {
          "output_type": "execute_result",
          "data": {
            "text/plain": [
              "IP       object\n",
              "Time     object\n",
              "URL      object\n",
              "Staus    object\n",
              "dtype: object"
            ]
          },
          "metadata": {},
          "execution_count": 6
        }
      ]
    },
    {
      "cell_type": "code",
      "source": [
        "data['Time']=data['Time'].map(lambda x: x.lstrip('['))\n",
        "data['Time'] = data['Time'].str.split(':',n = 1, expand = True)\n",
        "\n",
        "data['Time'] = pd.to_datetime(data['Time'],format='%d%m%Y', errors='ignore')"
      ],
      "metadata": {
        "id": "OEiwfCrvxJ2H"
      },
      "execution_count": null,
      "outputs": []
    },
    {
      "cell_type": "code",
      "source": [
        "data = data.rename(columns={'Staus': 'Status'}, index={'ONE': 'one'})"
      ],
      "metadata": {
        "id": "5ZkIYv9DZADC"
      },
      "execution_count": null,
      "outputs": []
    },
    {
      "cell_type": "code",
      "source": [
        "data['URL']=data['URL'].map(lambda x: x.lstrip('0'))\n",
        "data.describe()"
      ],
      "metadata": {
        "id": "AZCqkrmSZAkQ",
        "colab": {
          "base_uri": "https://localhost:8080/",
          "height": 174
        },
        "outputId": "e23cf65e-f827-4267-8e0a-3a5e3ab72e97"
      },
      "execution_count": null,
      "outputs": [
        {
          "output_type": "execute_result",
          "data": {
            "text/plain": [
              "                IP    Time                      URL Status\n",
              "count        16007   16007                    16007  16007\n",
              "unique          16    7307                      314     13\n",
              "top     10.128.2.1  cannot  GET /login.php HTTP/1.1    200\n",
              "freq          4257     167                     3284  11330"
            ],
            "text/html": [
              "\n",
              "  <div id=\"df-32f05623-7a20-4375-ae2b-eb0de697c5cc\">\n",
              "    <div class=\"colab-df-container\">\n",
              "      <div>\n",
              "<style scoped>\n",
              "    .dataframe tbody tr th:only-of-type {\n",
              "        vertical-align: middle;\n",
              "    }\n",
              "\n",
              "    .dataframe tbody tr th {\n",
              "        vertical-align: top;\n",
              "    }\n",
              "\n",
              "    .dataframe thead th {\n",
              "        text-align: right;\n",
              "    }\n",
              "</style>\n",
              "<table border=\"1\" class=\"dataframe\">\n",
              "  <thead>\n",
              "    <tr style=\"text-align: right;\">\n",
              "      <th></th>\n",
              "      <th>IP</th>\n",
              "      <th>Time</th>\n",
              "      <th>URL</th>\n",
              "      <th>Status</th>\n",
              "    </tr>\n",
              "  </thead>\n",
              "  <tbody>\n",
              "    <tr>\n",
              "      <th>count</th>\n",
              "      <td>16007</td>\n",
              "      <td>16007</td>\n",
              "      <td>16007</td>\n",
              "      <td>16007</td>\n",
              "    </tr>\n",
              "    <tr>\n",
              "      <th>unique</th>\n",
              "      <td>16</td>\n",
              "      <td>7307</td>\n",
              "      <td>314</td>\n",
              "      <td>13</td>\n",
              "    </tr>\n",
              "    <tr>\n",
              "      <th>top</th>\n",
              "      <td>10.128.2.1</td>\n",
              "      <td>cannot</td>\n",
              "      <td>GET /login.php HTTP/1.1</td>\n",
              "      <td>200</td>\n",
              "    </tr>\n",
              "    <tr>\n",
              "      <th>freq</th>\n",
              "      <td>4257</td>\n",
              "      <td>167</td>\n",
              "      <td>3284</td>\n",
              "      <td>11330</td>\n",
              "    </tr>\n",
              "  </tbody>\n",
              "</table>\n",
              "</div>\n",
              "      <button class=\"colab-df-convert\" onclick=\"convertToInteractive('df-32f05623-7a20-4375-ae2b-eb0de697c5cc')\"\n",
              "              title=\"Convert this dataframe to an interactive table.\"\n",
              "              style=\"display:none;\">\n",
              "        \n",
              "  <svg xmlns=\"http://www.w3.org/2000/svg\" height=\"24px\"viewBox=\"0 0 24 24\"\n",
              "       width=\"24px\">\n",
              "    <path d=\"M0 0h24v24H0V0z\" fill=\"none\"/>\n",
              "    <path d=\"M18.56 5.44l.94 2.06.94-2.06 2.06-.94-2.06-.94-.94-2.06-.94 2.06-2.06.94zm-11 1L8.5 8.5l.94-2.06 2.06-.94-2.06-.94L8.5 2.5l-.94 2.06-2.06.94zm10 10l.94 2.06.94-2.06 2.06-.94-2.06-.94-.94-2.06-.94 2.06-2.06.94z\"/><path d=\"M17.41 7.96l-1.37-1.37c-.4-.4-.92-.59-1.43-.59-.52 0-1.04.2-1.43.59L10.3 9.45l-7.72 7.72c-.78.78-.78 2.05 0 2.83L4 21.41c.39.39.9.59 1.41.59.51 0 1.02-.2 1.41-.59l7.78-7.78 2.81-2.81c.8-.78.8-2.07 0-2.86zM5.41 20L4 18.59l7.72-7.72 1.47 1.35L5.41 20z\"/>\n",
              "  </svg>\n",
              "      </button>\n",
              "      \n",
              "  <style>\n",
              "    .colab-df-container {\n",
              "      display:flex;\n",
              "      flex-wrap:wrap;\n",
              "      gap: 12px;\n",
              "    }\n",
              "\n",
              "    .colab-df-convert {\n",
              "      background-color: #E8F0FE;\n",
              "      border: none;\n",
              "      border-radius: 50%;\n",
              "      cursor: pointer;\n",
              "      display: none;\n",
              "      fill: #1967D2;\n",
              "      height: 32px;\n",
              "      padding: 0 0 0 0;\n",
              "      width: 32px;\n",
              "    }\n",
              "\n",
              "    .colab-df-convert:hover {\n",
              "      background-color: #E2EBFA;\n",
              "      box-shadow: 0px 1px 2px rgba(60, 64, 67, 0.3), 0px 1px 3px 1px rgba(60, 64, 67, 0.15);\n",
              "      fill: #174EA6;\n",
              "    }\n",
              "\n",
              "    [theme=dark] .colab-df-convert {\n",
              "      background-color: #3B4455;\n",
              "      fill: #D2E3FC;\n",
              "    }\n",
              "\n",
              "    [theme=dark] .colab-df-convert:hover {\n",
              "      background-color: #434B5C;\n",
              "      box-shadow: 0px 1px 3px 1px rgba(0, 0, 0, 0.15);\n",
              "      filter: drop-shadow(0px 1px 2px rgba(0, 0, 0, 0.3));\n",
              "      fill: #FFFFFF;\n",
              "    }\n",
              "  </style>\n",
              "\n",
              "      <script>\n",
              "        const buttonEl =\n",
              "          document.querySelector('#df-32f05623-7a20-4375-ae2b-eb0de697c5cc button.colab-df-convert');\n",
              "        buttonEl.style.display =\n",
              "          google.colab.kernel.accessAllowed ? 'block' : 'none';\n",
              "\n",
              "        async function convertToInteractive(key) {\n",
              "          const element = document.querySelector('#df-32f05623-7a20-4375-ae2b-eb0de697c5cc');\n",
              "          const dataTable =\n",
              "            await google.colab.kernel.invokeFunction('convertToInteractive',\n",
              "                                                     [key], {});\n",
              "          if (!dataTable) return;\n",
              "\n",
              "          const docLinkHtml = 'Like what you see? Visit the ' +\n",
              "            '<a target=\"_blank\" href=https://colab.research.google.com/notebooks/data_table.ipynb>data table notebook</a>'\n",
              "            + ' to learn more about interactive tables.';\n",
              "          element.innerHTML = '';\n",
              "          dataTable['output_type'] = 'display_data';\n",
              "          await google.colab.output.renderOutput(dataTable, element);\n",
              "          const docLink = document.createElement('div');\n",
              "          docLink.innerHTML = docLinkHtml;\n",
              "          element.appendChild(docLink);\n",
              "        }\n",
              "      </script>\n",
              "    </div>\n",
              "  </div>\n",
              "  "
            ]
          },
          "metadata": {},
          "execution_count": 9
        }
      ]
    },
    {
      "cell_type": "code",
      "source": [
        "data.isnull().sum().sum()"
      ],
      "metadata": {
        "id": "27p9A3IzZGwE",
        "colab": {
          "base_uri": "https://localhost:8080/"
        },
        "outputId": "f60dd3d4-bc8b-4f11-f193-5f7e861c1f09"
      },
      "execution_count": null,
      "outputs": [
        {
          "output_type": "execute_result",
          "data": {
            "text/plain": [
              "0"
            ]
          },
          "metadata": {},
          "execution_count": 10
        }
      ]
    },
    {
      "cell_type": "code",
      "source": [
        "'''empty = []\n",
        "date_list = data['Time']\n",
        "for i in date_list:\n",
        "    empty = i\n",
        "    data['date_time'].append(i)\n",
        "#data['date_time'] = data['Time'].to_string()\n",
        "data['date_time'][0]'''"
      ],
      "metadata": {
        "id": "Izadux5pZL3x",
        "colab": {
          "base_uri": "https://localhost:8080/",
          "height": 52
        },
        "outputId": "35d99b53-47c2-4293-ca3c-7096971fbc5c"
      },
      "execution_count": null,
      "outputs": [
        {
          "output_type": "execute_result",
          "data": {
            "text/plain": [
              "\"empty = []\\ndate_list = data['Time']\\nfor i in date_list:\\n    empty = i\\n    data['date_time'].append(i)\\n#data['date_time'] = data['Time'].to_string()\\ndata['date_time'][0]\""
            ],
            "application/vnd.google.colaboratory.intrinsic+json": {
              "type": "string"
            }
          },
          "metadata": {},
          "execution_count": 11
        }
      ]
    },
    {
      "cell_type": "code",
      "source": [
        "data['Time'][0]"
      ],
      "metadata": {
        "colab": {
          "base_uri": "https://localhost:8080/",
          "height": 35
        },
        "id": "Wf4dWhbrfsqV",
        "outputId": "64fbe3a9-de8b-488f-9f5d-e0f678cbe21a"
      },
      "execution_count": null,
      "outputs": [
        {
          "output_type": "execute_result",
          "data": {
            "text/plain": [
              "'29/Nov/2017:06:58:55'"
            ],
            "application/vnd.google.colaboratory.intrinsic+json": {
              "type": "string"
            }
          },
          "metadata": {},
          "execution_count": 12
        }
      ]
    },
    {
      "cell_type": "code",
      "source": [
        "# converting the date_time into datetime format\n",
        "\n",
        "data['month'] = data['Time'].str.slice(3, 6)\n",
        "data['day'] = data['Time'].str.slice(0, 2) "
      ],
      "metadata": {
        "id": "TSSmp1Ruf2zD"
      },
      "execution_count": null,
      "outputs": []
    },
    {
      "cell_type": "code",
      "source": [
        "#data['URL'] = str(data['URL'])"
      ],
      "metadata": {
        "id": "oXxhHXLOf4yd"
      },
      "execution_count": null,
      "outputs": []
    },
    {
      "cell_type": "code",
      "source": [
        "#data['Requests'] = data['URL'].str.split('HTTP/1.1')\n",
        "data"
      ],
      "metadata": {
        "colab": {
          "base_uri": "https://localhost:8080/",
          "height": 423
        },
        "id": "71jzC1-1f7gl",
        "outputId": "449ac193-6bb6-45b8-e03f-da62d49db296"
      },
      "execution_count": null,
      "outputs": [
        {
          "output_type": "execute_result",
          "data": {
            "text/plain": [
              "               IP                  Time  \\\n",
              "0      10.128.2.1  29/Nov/2017:06:58:55   \n",
              "1      10.128.2.1  29/Nov/2017:06:59:02   \n",
              "2      10.128.2.1  29/Nov/2017:06:59:03   \n",
              "3      10.131.2.1  29/Nov/2017:06:59:04   \n",
              "4      10.130.2.1  29/Nov/2017:06:59:06   \n",
              "...           ...                   ...   \n",
              "16002  10.130.2.1  02/Mar/2018:15:47:12   \n",
              "16003  10.130.2.1  02/Mar/2018:15:47:23   \n",
              "16004  10.130.2.1  02/Mar/2018:15:47:32   \n",
              "16005  10.130.2.1  02/Mar/2018:15:47:35   \n",
              "16006  10.130.2.1  02/Mar/2018:15:47:46   \n",
              "\n",
              "                                                 URL Status month day  \n",
              "0                            GET /login.php HTTP/1.1    200   Nov  29  \n",
              "1                         POST /process.php HTTP/1.1    302   Nov  29  \n",
              "2                             GET /home.php HTTP/1.1    200   Nov  29  \n",
              "3              GET /js/vendor/moment.min.js HTTP/1.1    200   Nov  29  \n",
              "4      GET /bootstrap-3.3.7/js/bootstrap.js HTTP/1.1    200   Nov  29  \n",
              "...                                              ...    ...   ...  ..  \n",
              "16002     GET /showcode.php?id=309&nm=ham05 HTTP/1.1    200   Mar  02  \n",
              "16003                GET /allsubmission.php HTTP/1.1    200   Mar  02  \n",
              "16004     GET /showcode.php?id=309&nm=ham05 HTTP/1.1    200   Mar  02  \n",
              "16005                GET /allsubmission.php HTTP/1.1    200   Mar  02  \n",
              "16006                         GET /home.php HTTP/1.1    200   Mar  02  \n",
              "\n",
              "[16007 rows x 6 columns]"
            ],
            "text/html": [
              "\n",
              "  <div id=\"df-504add23-0b0b-40c4-94e3-81da81b9c6e6\">\n",
              "    <div class=\"colab-df-container\">\n",
              "      <div>\n",
              "<style scoped>\n",
              "    .dataframe tbody tr th:only-of-type {\n",
              "        vertical-align: middle;\n",
              "    }\n",
              "\n",
              "    .dataframe tbody tr th {\n",
              "        vertical-align: top;\n",
              "    }\n",
              "\n",
              "    .dataframe thead th {\n",
              "        text-align: right;\n",
              "    }\n",
              "</style>\n",
              "<table border=\"1\" class=\"dataframe\">\n",
              "  <thead>\n",
              "    <tr style=\"text-align: right;\">\n",
              "      <th></th>\n",
              "      <th>IP</th>\n",
              "      <th>Time</th>\n",
              "      <th>URL</th>\n",
              "      <th>Status</th>\n",
              "      <th>month</th>\n",
              "      <th>day</th>\n",
              "    </tr>\n",
              "  </thead>\n",
              "  <tbody>\n",
              "    <tr>\n",
              "      <th>0</th>\n",
              "      <td>10.128.2.1</td>\n",
              "      <td>29/Nov/2017:06:58:55</td>\n",
              "      <td>GET /login.php HTTP/1.1</td>\n",
              "      <td>200</td>\n",
              "      <td>Nov</td>\n",
              "      <td>29</td>\n",
              "    </tr>\n",
              "    <tr>\n",
              "      <th>1</th>\n",
              "      <td>10.128.2.1</td>\n",
              "      <td>29/Nov/2017:06:59:02</td>\n",
              "      <td>POST /process.php HTTP/1.1</td>\n",
              "      <td>302</td>\n",
              "      <td>Nov</td>\n",
              "      <td>29</td>\n",
              "    </tr>\n",
              "    <tr>\n",
              "      <th>2</th>\n",
              "      <td>10.128.2.1</td>\n",
              "      <td>29/Nov/2017:06:59:03</td>\n",
              "      <td>GET /home.php HTTP/1.1</td>\n",
              "      <td>200</td>\n",
              "      <td>Nov</td>\n",
              "      <td>29</td>\n",
              "    </tr>\n",
              "    <tr>\n",
              "      <th>3</th>\n",
              "      <td>10.131.2.1</td>\n",
              "      <td>29/Nov/2017:06:59:04</td>\n",
              "      <td>GET /js/vendor/moment.min.js HTTP/1.1</td>\n",
              "      <td>200</td>\n",
              "      <td>Nov</td>\n",
              "      <td>29</td>\n",
              "    </tr>\n",
              "    <tr>\n",
              "      <th>4</th>\n",
              "      <td>10.130.2.1</td>\n",
              "      <td>29/Nov/2017:06:59:06</td>\n",
              "      <td>GET /bootstrap-3.3.7/js/bootstrap.js HTTP/1.1</td>\n",
              "      <td>200</td>\n",
              "      <td>Nov</td>\n",
              "      <td>29</td>\n",
              "    </tr>\n",
              "    <tr>\n",
              "      <th>...</th>\n",
              "      <td>...</td>\n",
              "      <td>...</td>\n",
              "      <td>...</td>\n",
              "      <td>...</td>\n",
              "      <td>...</td>\n",
              "      <td>...</td>\n",
              "    </tr>\n",
              "    <tr>\n",
              "      <th>16002</th>\n",
              "      <td>10.130.2.1</td>\n",
              "      <td>02/Mar/2018:15:47:12</td>\n",
              "      <td>GET /showcode.php?id=309&amp;nm=ham05 HTTP/1.1</td>\n",
              "      <td>200</td>\n",
              "      <td>Mar</td>\n",
              "      <td>02</td>\n",
              "    </tr>\n",
              "    <tr>\n",
              "      <th>16003</th>\n",
              "      <td>10.130.2.1</td>\n",
              "      <td>02/Mar/2018:15:47:23</td>\n",
              "      <td>GET /allsubmission.php HTTP/1.1</td>\n",
              "      <td>200</td>\n",
              "      <td>Mar</td>\n",
              "      <td>02</td>\n",
              "    </tr>\n",
              "    <tr>\n",
              "      <th>16004</th>\n",
              "      <td>10.130.2.1</td>\n",
              "      <td>02/Mar/2018:15:47:32</td>\n",
              "      <td>GET /showcode.php?id=309&amp;nm=ham05 HTTP/1.1</td>\n",
              "      <td>200</td>\n",
              "      <td>Mar</td>\n",
              "      <td>02</td>\n",
              "    </tr>\n",
              "    <tr>\n",
              "      <th>16005</th>\n",
              "      <td>10.130.2.1</td>\n",
              "      <td>02/Mar/2018:15:47:35</td>\n",
              "      <td>GET /allsubmission.php HTTP/1.1</td>\n",
              "      <td>200</td>\n",
              "      <td>Mar</td>\n",
              "      <td>02</td>\n",
              "    </tr>\n",
              "    <tr>\n",
              "      <th>16006</th>\n",
              "      <td>10.130.2.1</td>\n",
              "      <td>02/Mar/2018:15:47:46</td>\n",
              "      <td>GET /home.php HTTP/1.1</td>\n",
              "      <td>200</td>\n",
              "      <td>Mar</td>\n",
              "      <td>02</td>\n",
              "    </tr>\n",
              "  </tbody>\n",
              "</table>\n",
              "<p>16007 rows × 6 columns</p>\n",
              "</div>\n",
              "      <button class=\"colab-df-convert\" onclick=\"convertToInteractive('df-504add23-0b0b-40c4-94e3-81da81b9c6e6')\"\n",
              "              title=\"Convert this dataframe to an interactive table.\"\n",
              "              style=\"display:none;\">\n",
              "        \n",
              "  <svg xmlns=\"http://www.w3.org/2000/svg\" height=\"24px\"viewBox=\"0 0 24 24\"\n",
              "       width=\"24px\">\n",
              "    <path d=\"M0 0h24v24H0V0z\" fill=\"none\"/>\n",
              "    <path d=\"M18.56 5.44l.94 2.06.94-2.06 2.06-.94-2.06-.94-.94-2.06-.94 2.06-2.06.94zm-11 1L8.5 8.5l.94-2.06 2.06-.94-2.06-.94L8.5 2.5l-.94 2.06-2.06.94zm10 10l.94 2.06.94-2.06 2.06-.94-2.06-.94-.94-2.06-.94 2.06-2.06.94z\"/><path d=\"M17.41 7.96l-1.37-1.37c-.4-.4-.92-.59-1.43-.59-.52 0-1.04.2-1.43.59L10.3 9.45l-7.72 7.72c-.78.78-.78 2.05 0 2.83L4 21.41c.39.39.9.59 1.41.59.51 0 1.02-.2 1.41-.59l7.78-7.78 2.81-2.81c.8-.78.8-2.07 0-2.86zM5.41 20L4 18.59l7.72-7.72 1.47 1.35L5.41 20z\"/>\n",
              "  </svg>\n",
              "      </button>\n",
              "      \n",
              "  <style>\n",
              "    .colab-df-container {\n",
              "      display:flex;\n",
              "      flex-wrap:wrap;\n",
              "      gap: 12px;\n",
              "    }\n",
              "\n",
              "    .colab-df-convert {\n",
              "      background-color: #E8F0FE;\n",
              "      border: none;\n",
              "      border-radius: 50%;\n",
              "      cursor: pointer;\n",
              "      display: none;\n",
              "      fill: #1967D2;\n",
              "      height: 32px;\n",
              "      padding: 0 0 0 0;\n",
              "      width: 32px;\n",
              "    }\n",
              "\n",
              "    .colab-df-convert:hover {\n",
              "      background-color: #E2EBFA;\n",
              "      box-shadow: 0px 1px 2px rgba(60, 64, 67, 0.3), 0px 1px 3px 1px rgba(60, 64, 67, 0.15);\n",
              "      fill: #174EA6;\n",
              "    }\n",
              "\n",
              "    [theme=dark] .colab-df-convert {\n",
              "      background-color: #3B4455;\n",
              "      fill: #D2E3FC;\n",
              "    }\n",
              "\n",
              "    [theme=dark] .colab-df-convert:hover {\n",
              "      background-color: #434B5C;\n",
              "      box-shadow: 0px 1px 3px 1px rgba(0, 0, 0, 0.15);\n",
              "      filter: drop-shadow(0px 1px 2px rgba(0, 0, 0, 0.3));\n",
              "      fill: #FFFFFF;\n",
              "    }\n",
              "  </style>\n",
              "\n",
              "      <script>\n",
              "        const buttonEl =\n",
              "          document.querySelector('#df-504add23-0b0b-40c4-94e3-81da81b9c6e6 button.colab-df-convert');\n",
              "        buttonEl.style.display =\n",
              "          google.colab.kernel.accessAllowed ? 'block' : 'none';\n",
              "\n",
              "        async function convertToInteractive(key) {\n",
              "          const element = document.querySelector('#df-504add23-0b0b-40c4-94e3-81da81b9c6e6');\n",
              "          const dataTable =\n",
              "            await google.colab.kernel.invokeFunction('convertToInteractive',\n",
              "                                                     [key], {});\n",
              "          if (!dataTable) return;\n",
              "\n",
              "          const docLinkHtml = 'Like what you see? Visit the ' +\n",
              "            '<a target=\"_blank\" href=https://colab.research.google.com/notebooks/data_table.ipynb>data table notebook</a>'\n",
              "            + ' to learn more about interactive tables.';\n",
              "          element.innerHTML = '';\n",
              "          dataTable['output_type'] = 'display_data';\n",
              "          await google.colab.output.renderOutput(dataTable, element);\n",
              "          const docLink = document.createElement('div');\n",
              "          docLink.innerHTML = docLinkHtml;\n",
              "          element.appendChild(docLink);\n",
              "        }\n",
              "      </script>\n",
              "    </div>\n",
              "  </div>\n",
              "  "
            ]
          },
          "metadata": {},
          "execution_count": 15
        }
      ]
    },
    {
      "cell_type": "code",
      "source": [
        "#data['Requests'] = data['Requests'].str.split('[')"
      ],
      "metadata": {
        "id": "beKMrcdMf89Y"
      },
      "execution_count": null,
      "outputs": []
    },
    {
      "cell_type": "code",
      "source": [
        "data['Methods'] = data['URL'].str.split('/').str[0]\n",
        "\n",
        "#if data['URL'].str.contains('.js').any():\n",
        "#   data['URL_new'] = data['URL'].str.split('/').str[3]\n",
        "if data['URL'].str.contains('.php').any():\n",
        "    data['URL_new'] = data['URL'].str.split('/').str[1]\n",
        "elif data['URL'].str.contains('.js').any():\n",
        "    data['URL_new'] = data['URL'].str.split('/').str[3]"
      ],
      "metadata": {
        "id": "IRnTYd5WgAvB"
      },
      "execution_count": null,
      "outputs": []
    },
    {
      "cell_type": "code",
      "source": [
        "data"
      ],
      "metadata": {
        "colab": {
          "base_uri": "https://localhost:8080/",
          "height": 658
        },
        "id": "Ru_m9P20gDK6",
        "outputId": "a8d2c1dd-49e2-40c0-b0ae-393a0767bf74"
      },
      "execution_count": null,
      "outputs": [
        {
          "output_type": "execute_result",
          "data": {
            "text/plain": [
              "               IP                  Time  \\\n",
              "0      10.128.2.1  29/Nov/2017:06:58:55   \n",
              "1      10.128.2.1  29/Nov/2017:06:59:02   \n",
              "2      10.128.2.1  29/Nov/2017:06:59:03   \n",
              "3      10.131.2.1  29/Nov/2017:06:59:04   \n",
              "4      10.130.2.1  29/Nov/2017:06:59:06   \n",
              "...           ...                   ...   \n",
              "16002  10.130.2.1  02/Mar/2018:15:47:12   \n",
              "16003  10.130.2.1  02/Mar/2018:15:47:23   \n",
              "16004  10.130.2.1  02/Mar/2018:15:47:32   \n",
              "16005  10.130.2.1  02/Mar/2018:15:47:35   \n",
              "16006  10.130.2.1  02/Mar/2018:15:47:46   \n",
              "\n",
              "                                                 URL Status month day Methods  \\\n",
              "0                            GET /login.php HTTP/1.1    200   Nov  29    GET    \n",
              "1                         POST /process.php HTTP/1.1    302   Nov  29   POST    \n",
              "2                             GET /home.php HTTP/1.1    200   Nov  29    GET    \n",
              "3              GET /js/vendor/moment.min.js HTTP/1.1    200   Nov  29    GET    \n",
              "4      GET /bootstrap-3.3.7/js/bootstrap.js HTTP/1.1    200   Nov  29    GET    \n",
              "...                                              ...    ...   ...  ..     ...   \n",
              "16002     GET /showcode.php?id=309&nm=ham05 HTTP/1.1    200   Mar  02    GET    \n",
              "16003                GET /allsubmission.php HTTP/1.1    200   Mar  02    GET    \n",
              "16004     GET /showcode.php?id=309&nm=ham05 HTTP/1.1    200   Mar  02    GET    \n",
              "16005                GET /allsubmission.php HTTP/1.1    200   Mar  02    GET    \n",
              "16006                         GET /home.php HTTP/1.1    200   Mar  02    GET    \n",
              "\n",
              "                                 URL_new  \n",
              "0                         login.php HTTP  \n",
              "1                       process.php HTTP  \n",
              "2                          home.php HTTP  \n",
              "3                                     js  \n",
              "4                        bootstrap-3.3.7  \n",
              "...                                  ...  \n",
              "16002  showcode.php?id=309&nm=ham05 HTTP  \n",
              "16003             allsubmission.php HTTP  \n",
              "16004  showcode.php?id=309&nm=ham05 HTTP  \n",
              "16005             allsubmission.php HTTP  \n",
              "16006                      home.php HTTP  \n",
              "\n",
              "[16007 rows x 8 columns]"
            ],
            "text/html": [
              "\n",
              "  <div id=\"df-cdc9ff35-cee8-49a5-8dda-d3a5a79eb0d6\">\n",
              "    <div class=\"colab-df-container\">\n",
              "      <div>\n",
              "<style scoped>\n",
              "    .dataframe tbody tr th:only-of-type {\n",
              "        vertical-align: middle;\n",
              "    }\n",
              "\n",
              "    .dataframe tbody tr th {\n",
              "        vertical-align: top;\n",
              "    }\n",
              "\n",
              "    .dataframe thead th {\n",
              "        text-align: right;\n",
              "    }\n",
              "</style>\n",
              "<table border=\"1\" class=\"dataframe\">\n",
              "  <thead>\n",
              "    <tr style=\"text-align: right;\">\n",
              "      <th></th>\n",
              "      <th>IP</th>\n",
              "      <th>Time</th>\n",
              "      <th>URL</th>\n",
              "      <th>Status</th>\n",
              "      <th>month</th>\n",
              "      <th>day</th>\n",
              "      <th>Methods</th>\n",
              "      <th>URL_new</th>\n",
              "    </tr>\n",
              "  </thead>\n",
              "  <tbody>\n",
              "    <tr>\n",
              "      <th>0</th>\n",
              "      <td>10.128.2.1</td>\n",
              "      <td>29/Nov/2017:06:58:55</td>\n",
              "      <td>GET /login.php HTTP/1.1</td>\n",
              "      <td>200</td>\n",
              "      <td>Nov</td>\n",
              "      <td>29</td>\n",
              "      <td>GET</td>\n",
              "      <td>login.php HTTP</td>\n",
              "    </tr>\n",
              "    <tr>\n",
              "      <th>1</th>\n",
              "      <td>10.128.2.1</td>\n",
              "      <td>29/Nov/2017:06:59:02</td>\n",
              "      <td>POST /process.php HTTP/1.1</td>\n",
              "      <td>302</td>\n",
              "      <td>Nov</td>\n",
              "      <td>29</td>\n",
              "      <td>POST</td>\n",
              "      <td>process.php HTTP</td>\n",
              "    </tr>\n",
              "    <tr>\n",
              "      <th>2</th>\n",
              "      <td>10.128.2.1</td>\n",
              "      <td>29/Nov/2017:06:59:03</td>\n",
              "      <td>GET /home.php HTTP/1.1</td>\n",
              "      <td>200</td>\n",
              "      <td>Nov</td>\n",
              "      <td>29</td>\n",
              "      <td>GET</td>\n",
              "      <td>home.php HTTP</td>\n",
              "    </tr>\n",
              "    <tr>\n",
              "      <th>3</th>\n",
              "      <td>10.131.2.1</td>\n",
              "      <td>29/Nov/2017:06:59:04</td>\n",
              "      <td>GET /js/vendor/moment.min.js HTTP/1.1</td>\n",
              "      <td>200</td>\n",
              "      <td>Nov</td>\n",
              "      <td>29</td>\n",
              "      <td>GET</td>\n",
              "      <td>js</td>\n",
              "    </tr>\n",
              "    <tr>\n",
              "      <th>4</th>\n",
              "      <td>10.130.2.1</td>\n",
              "      <td>29/Nov/2017:06:59:06</td>\n",
              "      <td>GET /bootstrap-3.3.7/js/bootstrap.js HTTP/1.1</td>\n",
              "      <td>200</td>\n",
              "      <td>Nov</td>\n",
              "      <td>29</td>\n",
              "      <td>GET</td>\n",
              "      <td>bootstrap-3.3.7</td>\n",
              "    </tr>\n",
              "    <tr>\n",
              "      <th>...</th>\n",
              "      <td>...</td>\n",
              "      <td>...</td>\n",
              "      <td>...</td>\n",
              "      <td>...</td>\n",
              "      <td>...</td>\n",
              "      <td>...</td>\n",
              "      <td>...</td>\n",
              "      <td>...</td>\n",
              "    </tr>\n",
              "    <tr>\n",
              "      <th>16002</th>\n",
              "      <td>10.130.2.1</td>\n",
              "      <td>02/Mar/2018:15:47:12</td>\n",
              "      <td>GET /showcode.php?id=309&amp;nm=ham05 HTTP/1.1</td>\n",
              "      <td>200</td>\n",
              "      <td>Mar</td>\n",
              "      <td>02</td>\n",
              "      <td>GET</td>\n",
              "      <td>showcode.php?id=309&amp;nm=ham05 HTTP</td>\n",
              "    </tr>\n",
              "    <tr>\n",
              "      <th>16003</th>\n",
              "      <td>10.130.2.1</td>\n",
              "      <td>02/Mar/2018:15:47:23</td>\n",
              "      <td>GET /allsubmission.php HTTP/1.1</td>\n",
              "      <td>200</td>\n",
              "      <td>Mar</td>\n",
              "      <td>02</td>\n",
              "      <td>GET</td>\n",
              "      <td>allsubmission.php HTTP</td>\n",
              "    </tr>\n",
              "    <tr>\n",
              "      <th>16004</th>\n",
              "      <td>10.130.2.1</td>\n",
              "      <td>02/Mar/2018:15:47:32</td>\n",
              "      <td>GET /showcode.php?id=309&amp;nm=ham05 HTTP/1.1</td>\n",
              "      <td>200</td>\n",
              "      <td>Mar</td>\n",
              "      <td>02</td>\n",
              "      <td>GET</td>\n",
              "      <td>showcode.php?id=309&amp;nm=ham05 HTTP</td>\n",
              "    </tr>\n",
              "    <tr>\n",
              "      <th>16005</th>\n",
              "      <td>10.130.2.1</td>\n",
              "      <td>02/Mar/2018:15:47:35</td>\n",
              "      <td>GET /allsubmission.php HTTP/1.1</td>\n",
              "      <td>200</td>\n",
              "      <td>Mar</td>\n",
              "      <td>02</td>\n",
              "      <td>GET</td>\n",
              "      <td>allsubmission.php HTTP</td>\n",
              "    </tr>\n",
              "    <tr>\n",
              "      <th>16006</th>\n",
              "      <td>10.130.2.1</td>\n",
              "      <td>02/Mar/2018:15:47:46</td>\n",
              "      <td>GET /home.php HTTP/1.1</td>\n",
              "      <td>200</td>\n",
              "      <td>Mar</td>\n",
              "      <td>02</td>\n",
              "      <td>GET</td>\n",
              "      <td>home.php HTTP</td>\n",
              "    </tr>\n",
              "  </tbody>\n",
              "</table>\n",
              "<p>16007 rows × 8 columns</p>\n",
              "</div>\n",
              "      <button class=\"colab-df-convert\" onclick=\"convertToInteractive('df-cdc9ff35-cee8-49a5-8dda-d3a5a79eb0d6')\"\n",
              "              title=\"Convert this dataframe to an interactive table.\"\n",
              "              style=\"display:none;\">\n",
              "        \n",
              "  <svg xmlns=\"http://www.w3.org/2000/svg\" height=\"24px\"viewBox=\"0 0 24 24\"\n",
              "       width=\"24px\">\n",
              "    <path d=\"M0 0h24v24H0V0z\" fill=\"none\"/>\n",
              "    <path d=\"M18.56 5.44l.94 2.06.94-2.06 2.06-.94-2.06-.94-.94-2.06-.94 2.06-2.06.94zm-11 1L8.5 8.5l.94-2.06 2.06-.94-2.06-.94L8.5 2.5l-.94 2.06-2.06.94zm10 10l.94 2.06.94-2.06 2.06-.94-2.06-.94-.94-2.06-.94 2.06-2.06.94z\"/><path d=\"M17.41 7.96l-1.37-1.37c-.4-.4-.92-.59-1.43-.59-.52 0-1.04.2-1.43.59L10.3 9.45l-7.72 7.72c-.78.78-.78 2.05 0 2.83L4 21.41c.39.39.9.59 1.41.59.51 0 1.02-.2 1.41-.59l7.78-7.78 2.81-2.81c.8-.78.8-2.07 0-2.86zM5.41 20L4 18.59l7.72-7.72 1.47 1.35L5.41 20z\"/>\n",
              "  </svg>\n",
              "      </button>\n",
              "      \n",
              "  <style>\n",
              "    .colab-df-container {\n",
              "      display:flex;\n",
              "      flex-wrap:wrap;\n",
              "      gap: 12px;\n",
              "    }\n",
              "\n",
              "    .colab-df-convert {\n",
              "      background-color: #E8F0FE;\n",
              "      border: none;\n",
              "      border-radius: 50%;\n",
              "      cursor: pointer;\n",
              "      display: none;\n",
              "      fill: #1967D2;\n",
              "      height: 32px;\n",
              "      padding: 0 0 0 0;\n",
              "      width: 32px;\n",
              "    }\n",
              "\n",
              "    .colab-df-convert:hover {\n",
              "      background-color: #E2EBFA;\n",
              "      box-shadow: 0px 1px 2px rgba(60, 64, 67, 0.3), 0px 1px 3px 1px rgba(60, 64, 67, 0.15);\n",
              "      fill: #174EA6;\n",
              "    }\n",
              "\n",
              "    [theme=dark] .colab-df-convert {\n",
              "      background-color: #3B4455;\n",
              "      fill: #D2E3FC;\n",
              "    }\n",
              "\n",
              "    [theme=dark] .colab-df-convert:hover {\n",
              "      background-color: #434B5C;\n",
              "      box-shadow: 0px 1px 3px 1px rgba(0, 0, 0, 0.15);\n",
              "      filter: drop-shadow(0px 1px 2px rgba(0, 0, 0, 0.3));\n",
              "      fill: #FFFFFF;\n",
              "    }\n",
              "  </style>\n",
              "\n",
              "      <script>\n",
              "        const buttonEl =\n",
              "          document.querySelector('#df-cdc9ff35-cee8-49a5-8dda-d3a5a79eb0d6 button.colab-df-convert');\n",
              "        buttonEl.style.display =\n",
              "          google.colab.kernel.accessAllowed ? 'block' : 'none';\n",
              "\n",
              "        async function convertToInteractive(key) {\n",
              "          const element = document.querySelector('#df-cdc9ff35-cee8-49a5-8dda-d3a5a79eb0d6');\n",
              "          const dataTable =\n",
              "            await google.colab.kernel.invokeFunction('convertToInteractive',\n",
              "                                                     [key], {});\n",
              "          if (!dataTable) return;\n",
              "\n",
              "          const docLinkHtml = 'Like what you see? Visit the ' +\n",
              "            '<a target=\"_blank\" href=https://colab.research.google.com/notebooks/data_table.ipynb>data table notebook</a>'\n",
              "            + ' to learn more about interactive tables.';\n",
              "          element.innerHTML = '';\n",
              "          dataTable['output_type'] = 'display_data';\n",
              "          await google.colab.output.renderOutput(dataTable, element);\n",
              "          const docLink = document.createElement('div');\n",
              "          docLink.innerHTML = docLinkHtml;\n",
              "          element.appendChild(docLink);\n",
              "        }\n",
              "      </script>\n",
              "    </div>\n",
              "  </div>\n",
              "  "
            ]
          },
          "metadata": {},
          "execution_count": 18
        }
      ]
    },
    {
      "cell_type": "code",
      "source": [
        "data['URL_new'] = data['URL_new'].str.split('HTTP')"
      ],
      "metadata": {
        "id": "GajavDMngFs6"
      },
      "execution_count": null,
      "outputs": []
    },
    {
      "cell_type": "code",
      "source": [
        "data"
      ],
      "metadata": {
        "colab": {
          "base_uri": "https://localhost:8080/",
          "height": 658
        },
        "id": "MSVqo5cfgHlv",
        "outputId": "f8d564a9-bda6-48ef-f999-ae03c1d00ebb"
      },
      "execution_count": null,
      "outputs": [
        {
          "output_type": "execute_result",
          "data": {
            "text/plain": [
              "               IP                  Time  \\\n",
              "0      10.128.2.1  29/Nov/2017:06:58:55   \n",
              "1      10.128.2.1  29/Nov/2017:06:59:02   \n",
              "2      10.128.2.1  29/Nov/2017:06:59:03   \n",
              "3      10.131.2.1  29/Nov/2017:06:59:04   \n",
              "4      10.130.2.1  29/Nov/2017:06:59:06   \n",
              "...           ...                   ...   \n",
              "16002  10.130.2.1  02/Mar/2018:15:47:12   \n",
              "16003  10.130.2.1  02/Mar/2018:15:47:23   \n",
              "16004  10.130.2.1  02/Mar/2018:15:47:32   \n",
              "16005  10.130.2.1  02/Mar/2018:15:47:35   \n",
              "16006  10.130.2.1  02/Mar/2018:15:47:46   \n",
              "\n",
              "                                                 URL Status month day Methods  \\\n",
              "0                            GET /login.php HTTP/1.1    200   Nov  29    GET    \n",
              "1                         POST /process.php HTTP/1.1    302   Nov  29   POST    \n",
              "2                             GET /home.php HTTP/1.1    200   Nov  29    GET    \n",
              "3              GET /js/vendor/moment.min.js HTTP/1.1    200   Nov  29    GET    \n",
              "4      GET /bootstrap-3.3.7/js/bootstrap.js HTTP/1.1    200   Nov  29    GET    \n",
              "...                                              ...    ...   ...  ..     ...   \n",
              "16002     GET /showcode.php?id=309&nm=ham05 HTTP/1.1    200   Mar  02    GET    \n",
              "16003                GET /allsubmission.php HTTP/1.1    200   Mar  02    GET    \n",
              "16004     GET /showcode.php?id=309&nm=ham05 HTTP/1.1    200   Mar  02    GET    \n",
              "16005                GET /allsubmission.php HTTP/1.1    200   Mar  02    GET    \n",
              "16006                         GET /home.php HTTP/1.1    200   Mar  02    GET    \n",
              "\n",
              "                                 URL_new  \n",
              "0                         [login.php , ]  \n",
              "1                       [process.php , ]  \n",
              "2                          [home.php , ]  \n",
              "3                                   [js]  \n",
              "4                      [bootstrap-3.3.7]  \n",
              "...                                  ...  \n",
              "16002  [showcode.php?id=309&nm=ham05 , ]  \n",
              "16003             [allsubmission.php , ]  \n",
              "16004  [showcode.php?id=309&nm=ham05 , ]  \n",
              "16005             [allsubmission.php , ]  \n",
              "16006                      [home.php , ]  \n",
              "\n",
              "[16007 rows x 8 columns]"
            ],
            "text/html": [
              "\n",
              "  <div id=\"df-1c0c515f-8596-4e05-945a-a9f9a45e5df0\">\n",
              "    <div class=\"colab-df-container\">\n",
              "      <div>\n",
              "<style scoped>\n",
              "    .dataframe tbody tr th:only-of-type {\n",
              "        vertical-align: middle;\n",
              "    }\n",
              "\n",
              "    .dataframe tbody tr th {\n",
              "        vertical-align: top;\n",
              "    }\n",
              "\n",
              "    .dataframe thead th {\n",
              "        text-align: right;\n",
              "    }\n",
              "</style>\n",
              "<table border=\"1\" class=\"dataframe\">\n",
              "  <thead>\n",
              "    <tr style=\"text-align: right;\">\n",
              "      <th></th>\n",
              "      <th>IP</th>\n",
              "      <th>Time</th>\n",
              "      <th>URL</th>\n",
              "      <th>Status</th>\n",
              "      <th>month</th>\n",
              "      <th>day</th>\n",
              "      <th>Methods</th>\n",
              "      <th>URL_new</th>\n",
              "    </tr>\n",
              "  </thead>\n",
              "  <tbody>\n",
              "    <tr>\n",
              "      <th>0</th>\n",
              "      <td>10.128.2.1</td>\n",
              "      <td>29/Nov/2017:06:58:55</td>\n",
              "      <td>GET /login.php HTTP/1.1</td>\n",
              "      <td>200</td>\n",
              "      <td>Nov</td>\n",
              "      <td>29</td>\n",
              "      <td>GET</td>\n",
              "      <td>[login.php , ]</td>\n",
              "    </tr>\n",
              "    <tr>\n",
              "      <th>1</th>\n",
              "      <td>10.128.2.1</td>\n",
              "      <td>29/Nov/2017:06:59:02</td>\n",
              "      <td>POST /process.php HTTP/1.1</td>\n",
              "      <td>302</td>\n",
              "      <td>Nov</td>\n",
              "      <td>29</td>\n",
              "      <td>POST</td>\n",
              "      <td>[process.php , ]</td>\n",
              "    </tr>\n",
              "    <tr>\n",
              "      <th>2</th>\n",
              "      <td>10.128.2.1</td>\n",
              "      <td>29/Nov/2017:06:59:03</td>\n",
              "      <td>GET /home.php HTTP/1.1</td>\n",
              "      <td>200</td>\n",
              "      <td>Nov</td>\n",
              "      <td>29</td>\n",
              "      <td>GET</td>\n",
              "      <td>[home.php , ]</td>\n",
              "    </tr>\n",
              "    <tr>\n",
              "      <th>3</th>\n",
              "      <td>10.131.2.1</td>\n",
              "      <td>29/Nov/2017:06:59:04</td>\n",
              "      <td>GET /js/vendor/moment.min.js HTTP/1.1</td>\n",
              "      <td>200</td>\n",
              "      <td>Nov</td>\n",
              "      <td>29</td>\n",
              "      <td>GET</td>\n",
              "      <td>[js]</td>\n",
              "    </tr>\n",
              "    <tr>\n",
              "      <th>4</th>\n",
              "      <td>10.130.2.1</td>\n",
              "      <td>29/Nov/2017:06:59:06</td>\n",
              "      <td>GET /bootstrap-3.3.7/js/bootstrap.js HTTP/1.1</td>\n",
              "      <td>200</td>\n",
              "      <td>Nov</td>\n",
              "      <td>29</td>\n",
              "      <td>GET</td>\n",
              "      <td>[bootstrap-3.3.7]</td>\n",
              "    </tr>\n",
              "    <tr>\n",
              "      <th>...</th>\n",
              "      <td>...</td>\n",
              "      <td>...</td>\n",
              "      <td>...</td>\n",
              "      <td>...</td>\n",
              "      <td>...</td>\n",
              "      <td>...</td>\n",
              "      <td>...</td>\n",
              "      <td>...</td>\n",
              "    </tr>\n",
              "    <tr>\n",
              "      <th>16002</th>\n",
              "      <td>10.130.2.1</td>\n",
              "      <td>02/Mar/2018:15:47:12</td>\n",
              "      <td>GET /showcode.php?id=309&amp;nm=ham05 HTTP/1.1</td>\n",
              "      <td>200</td>\n",
              "      <td>Mar</td>\n",
              "      <td>02</td>\n",
              "      <td>GET</td>\n",
              "      <td>[showcode.php?id=309&amp;nm=ham05 , ]</td>\n",
              "    </tr>\n",
              "    <tr>\n",
              "      <th>16003</th>\n",
              "      <td>10.130.2.1</td>\n",
              "      <td>02/Mar/2018:15:47:23</td>\n",
              "      <td>GET /allsubmission.php HTTP/1.1</td>\n",
              "      <td>200</td>\n",
              "      <td>Mar</td>\n",
              "      <td>02</td>\n",
              "      <td>GET</td>\n",
              "      <td>[allsubmission.php , ]</td>\n",
              "    </tr>\n",
              "    <tr>\n",
              "      <th>16004</th>\n",
              "      <td>10.130.2.1</td>\n",
              "      <td>02/Mar/2018:15:47:32</td>\n",
              "      <td>GET /showcode.php?id=309&amp;nm=ham05 HTTP/1.1</td>\n",
              "      <td>200</td>\n",
              "      <td>Mar</td>\n",
              "      <td>02</td>\n",
              "      <td>GET</td>\n",
              "      <td>[showcode.php?id=309&amp;nm=ham05 , ]</td>\n",
              "    </tr>\n",
              "    <tr>\n",
              "      <th>16005</th>\n",
              "      <td>10.130.2.1</td>\n",
              "      <td>02/Mar/2018:15:47:35</td>\n",
              "      <td>GET /allsubmission.php HTTP/1.1</td>\n",
              "      <td>200</td>\n",
              "      <td>Mar</td>\n",
              "      <td>02</td>\n",
              "      <td>GET</td>\n",
              "      <td>[allsubmission.php , ]</td>\n",
              "    </tr>\n",
              "    <tr>\n",
              "      <th>16006</th>\n",
              "      <td>10.130.2.1</td>\n",
              "      <td>02/Mar/2018:15:47:46</td>\n",
              "      <td>GET /home.php HTTP/1.1</td>\n",
              "      <td>200</td>\n",
              "      <td>Mar</td>\n",
              "      <td>02</td>\n",
              "      <td>GET</td>\n",
              "      <td>[home.php , ]</td>\n",
              "    </tr>\n",
              "  </tbody>\n",
              "</table>\n",
              "<p>16007 rows × 8 columns</p>\n",
              "</div>\n",
              "      <button class=\"colab-df-convert\" onclick=\"convertToInteractive('df-1c0c515f-8596-4e05-945a-a9f9a45e5df0')\"\n",
              "              title=\"Convert this dataframe to an interactive table.\"\n",
              "              style=\"display:none;\">\n",
              "        \n",
              "  <svg xmlns=\"http://www.w3.org/2000/svg\" height=\"24px\"viewBox=\"0 0 24 24\"\n",
              "       width=\"24px\">\n",
              "    <path d=\"M0 0h24v24H0V0z\" fill=\"none\"/>\n",
              "    <path d=\"M18.56 5.44l.94 2.06.94-2.06 2.06-.94-2.06-.94-.94-2.06-.94 2.06-2.06.94zm-11 1L8.5 8.5l.94-2.06 2.06-.94-2.06-.94L8.5 2.5l-.94 2.06-2.06.94zm10 10l.94 2.06.94-2.06 2.06-.94-2.06-.94-.94-2.06-.94 2.06-2.06.94z\"/><path d=\"M17.41 7.96l-1.37-1.37c-.4-.4-.92-.59-1.43-.59-.52 0-1.04.2-1.43.59L10.3 9.45l-7.72 7.72c-.78.78-.78 2.05 0 2.83L4 21.41c.39.39.9.59 1.41.59.51 0 1.02-.2 1.41-.59l7.78-7.78 2.81-2.81c.8-.78.8-2.07 0-2.86zM5.41 20L4 18.59l7.72-7.72 1.47 1.35L5.41 20z\"/>\n",
              "  </svg>\n",
              "      </button>\n",
              "      \n",
              "  <style>\n",
              "    .colab-df-container {\n",
              "      display:flex;\n",
              "      flex-wrap:wrap;\n",
              "      gap: 12px;\n",
              "    }\n",
              "\n",
              "    .colab-df-convert {\n",
              "      background-color: #E8F0FE;\n",
              "      border: none;\n",
              "      border-radius: 50%;\n",
              "      cursor: pointer;\n",
              "      display: none;\n",
              "      fill: #1967D2;\n",
              "      height: 32px;\n",
              "      padding: 0 0 0 0;\n",
              "      width: 32px;\n",
              "    }\n",
              "\n",
              "    .colab-df-convert:hover {\n",
              "      background-color: #E2EBFA;\n",
              "      box-shadow: 0px 1px 2px rgba(60, 64, 67, 0.3), 0px 1px 3px 1px rgba(60, 64, 67, 0.15);\n",
              "      fill: #174EA6;\n",
              "    }\n",
              "\n",
              "    [theme=dark] .colab-df-convert {\n",
              "      background-color: #3B4455;\n",
              "      fill: #D2E3FC;\n",
              "    }\n",
              "\n",
              "    [theme=dark] .colab-df-convert:hover {\n",
              "      background-color: #434B5C;\n",
              "      box-shadow: 0px 1px 3px 1px rgba(0, 0, 0, 0.15);\n",
              "      filter: drop-shadow(0px 1px 2px rgba(0, 0, 0, 0.3));\n",
              "      fill: #FFFFFF;\n",
              "    }\n",
              "  </style>\n",
              "\n",
              "      <script>\n",
              "        const buttonEl =\n",
              "          document.querySelector('#df-1c0c515f-8596-4e05-945a-a9f9a45e5df0 button.colab-df-convert');\n",
              "        buttonEl.style.display =\n",
              "          google.colab.kernel.accessAllowed ? 'block' : 'none';\n",
              "\n",
              "        async function convertToInteractive(key) {\n",
              "          const element = document.querySelector('#df-1c0c515f-8596-4e05-945a-a9f9a45e5df0');\n",
              "          const dataTable =\n",
              "            await google.colab.kernel.invokeFunction('convertToInteractive',\n",
              "                                                     [key], {});\n",
              "          if (!dataTable) return;\n",
              "\n",
              "          const docLinkHtml = 'Like what you see? Visit the ' +\n",
              "            '<a target=\"_blank\" href=https://colab.research.google.com/notebooks/data_table.ipynb>data table notebook</a>'\n",
              "            + ' to learn more about interactive tables.';\n",
              "          element.innerHTML = '';\n",
              "          dataTable['output_type'] = 'display_data';\n",
              "          await google.colab.output.renderOutput(dataTable, element);\n",
              "          const docLink = document.createElement('div');\n",
              "          docLink.innerHTML = docLinkHtml;\n",
              "          element.appendChild(docLink);\n",
              "        }\n",
              "      </script>\n",
              "    </div>\n",
              "  </div>\n",
              "  "
            ]
          },
          "metadata": {},
          "execution_count": 20
        }
      ]
    },
    {
      "cell_type": "code",
      "source": [
        "plt.rcParams['figure.figsize'] = (18, 7)\n",
        "\n",
        "color = plt.cm.copper(np.linspace(0, 1, 40))\n",
        "data['Methods'].value_counts().head(40).plot.bar(color = color)\n",
        "plt.title('Most Popular Methods by the Users', fontsize = 20)"
      ],
      "metadata": {
        "colab": {
          "base_uri": "https://localhost:8080/",
          "height": 418
        },
        "id": "2q53tXXxgJAb",
        "outputId": "ba36f095-1d4a-44fb-86fe-c28f1f999efd"
      },
      "execution_count": null,
      "outputs": [
        {
          "output_type": "execute_result",
          "data": {
            "text/plain": [
              "Text(0.5, 1.0, 'Most Popular Methods by the Users')"
            ]
          },
          "metadata": {},
          "execution_count": 21
        },
        {
          "output_type": "display_data",
          "data": {
            "text/plain": [
              "<Figure size 1296x504 with 1 Axes>"
            ],
            "image/png": "[encoded data removed]"
          },
          "metadata": {
            "needs_background": "light"
          }
        }
      ]
    },
    {
      "cell_type": "code",
      "source": [
        "plt.rcParams['figure.figsize'] = (18, 7)\n",
        "\n",
        "color = plt.cm.copper(np.linspace(0, 1, 40))\n",
        "data['URL_new'].value_counts().head(40).plot.bar(color = color)\n",
        "plt.title('Most Popular URLs by the Users', fontsize = 20)"
      ],
      "metadata": {
        "colab": {
          "base_uri": "https://localhost:8080/",
          "height": 698
        },
        "id": "QeAsPIKvgK4B",
        "outputId": "1415c962-a290-47b3-c7b1-cf7ff905ea59"
      },
      "execution_count": null,
      "outputs": [
        {
          "output_type": "execute_result",
          "data": {
            "text/plain": [
              "Text(0.5, 1.0, 'Most Popular URLs by the Users')"
            ]
          },
          "metadata": {},
          "execution_count": 22
        },
        {
          "output_type": "display_data",
          "data": {
            "text/plain": [
              "<Figure size 1296x504 with 1 Axes>"
            ],
            "image/png": "[encoded data removed]"
          },
          "metadata": {
            "needs_background": "light"
          }
        }
      ]
    },
    {
      "cell_type": "code",
      "source": [
        "plt.rcParams['figure.figsize'] = (18, 7)\n",
        "\n",
        "color = plt.cm.copper(np.linspace(0, 1, 40))\n",
        "data['month'].value_counts().head(40).plot.bar(color = 'cyan')\n",
        "plt.title('Most Popular Months of Logins', fontsize = 20)"
      ],
      "metadata": {
        "colab": {
          "base_uri": "https://localhost:8080/",
          "height": 396
        },
        "id": "4ddgdYlbgM1V",
        "outputId": "f2191654-6811-458f-dcd9-984e6ef8f20d"
      },
      "execution_count": null,
      "outputs": [
        {
          "output_type": "execute_result",
          "data": {
            "text/plain": [
              "Text(0.5, 1.0, 'Most Popular Months of Logins')"
            ]
          },
          "metadata": {},
          "execution_count": 23
        },
        {
          "output_type": "display_data",
          "data": {
            "text/plain": [
              "<Figure size 1296x504 with 1 Axes>"
            ],
            "image/png": "[encoded data removed]"
          },
          "metadata": {
            "needs_background": "light"
          }
        }
      ]
    },
    {
      "cell_type": "code",
      "source": [
        "plt.rcParams['figure.figsize'] = (18, 7)\n",
        "\n",
        "color = plt.cm.copper(np.linspace(0, 1, 40))\n",
        "data['day'].value_counts().head(40).plot.bar(color = 'tomato')\n",
        "plt.title('Most Popular Days of Logins', fontsize = 20)"
      ],
      "metadata": {
        "colab": {
          "base_uri": "https://localhost:8080/",
          "height": 392
        },
        "id": "-HT_yzYGgO5o",
        "outputId": "d7601d5e-7f7b-4c6c-8ec9-ea7a3f91c7a4"
      },
      "execution_count": null,
      "outputs": [
        {
          "output_type": "execute_result",
          "data": {
            "text/plain": [
              "Text(0.5, 1.0, 'Most Popular Days of Logins')"
            ]
          },
          "metadata": {},
          "execution_count": 24
        },
        {
          "output_type": "display_data",
          "data": {
            "text/plain": [
              "<Figure size 1296x504 with 1 Axes>"
            ],
            "image/png": "[encoded data removed]"
          },
          "metadata": {
            "needs_background": "light"
          }
        }
      ]
    },
    {
      "cell_type": "code",
      "source": [
        "plt.rcParams['figure.figsize'] = (18, 7)\n",
        "\n",
        "color = plt.cm.Wistia(np.linspace(0, 1, 40))\n",
        "data['Status'].value_counts().head(40).plot.bar(color = 'seagreen')\n",
        "plt.title('Most Popular statuses for the Users', fontsize = 20)"
      ],
      "metadata": {
        "colab": {
          "base_uri": "https://localhost:8080/",
          "height": 434
        },
        "id": "2nztio0lgQ6m",
        "outputId": "2684de26-62f5-4be3-98e8-f561d9e545bf"
      },
      "execution_count": null,
      "outputs": [
        {
          "output_type": "execute_result",
          "data": {
            "text/plain": [
              "Text(0.5, 1.0, 'Most Popular statuses for the Users')"
            ]
          },
          "metadata": {},
          "execution_count": 25
        },
        {
          "output_type": "display_data",
          "data": {
            "text/plain": [
              "<Figure size 1296x504 with 1 Axes>"
            ],
            "image/png": "[encoded data removed]"
          },
          "metadata": {
            "needs_background": "light"
          }
        }
      ]
    }
  ]
}